{
 "cells": [
  {
   "cell_type": "markdown",
   "id": "0b90a385-afa8-4b51-a9f3-a0169d7a97b4",
   "metadata": {},
   "source": [
    "# import sm2r_tahmo_algorithm\n",
    "import extract_ascat_rzsm\n",
    "import utils\n",
    "\n",
    "import os\n",
    "import pandas as pd\n",
    "import numpy as np\n",
    "import xarray as xr\n",
    "import eumdac\n",
    "import datetime\n",
    "from datetime import datetime, timedelta\n",
    "import shutil\n",
    "import requests\n",
    "import ftplib\n",
    "import calendar\n",
    "import geopandas as gpd\n",
    "import matplotlib.pyplot as plt\n",
    "import ipywidgets as widgets\n",
    "from IPython.display import display\n",
    "import scipy.stats as stats\n",
    "from scipy.stats.mstats import mquantiles\n",
    "from scipy.interpolate import interp1d\n",
    "from sklearn.metrics import confusion_matrix\n",
    "import pickle\n",
    "import warnings\n",
    "import re\n",
    "\n",
    "# Ignore the specific RuntimeWarning\n",
    "warnings.filterwarnings(\"ignore\", category=RuntimeWarning)\n"
   ]
  },
  {
   "cell_type": "markdown",
   "id": "b47fc353-de5f-4040-9428-635c5af2641a",
   "metadata": {},
   "source": [
    "# Settings"
   ]
  },
  {
   "cell_type": "code",
   "execution_count": 13,
   "id": "d21ae187-44fe-4587-ac33-717a353bd43f",
   "metadata": {},
   "outputs": [],
   "source": [
    "path_to_ascat_rzsm = r\"/scratch/b/b382028/sm2rain/data/ascat_daily_sm/\"\n",
    "path_to_tahmo = 'data/tahmo'\n",
    "path_to_metadata = 'data/tahmo/metadata.csv'\n",
    "\n",
    "\n",
    "# [MinLon,MaxLon,MinLat,MaxLat] =  [28.45,43.55,-5.05,5.45]\n",
    "[MinLon,MaxLon,MinLat,MaxLat] =  [-4.63,8.33,4.06,15.10]\n",
    "\n",
    "tol = 0.2\n",
    "\n",
    "nclasses = 7\n",
    "min_value = 0\n",
    "max_value = 1800\n",
    "\n",
    "sigma=5.0\n",
    "\n",
    "ID = 'WA'\n",
    "num_stations_to_select = 'All' #'All' # 'All' #'All' or int\n",
    "\n",
    "days = list(np.arange(1,32))\n",
    "months =list(np.arange(1,13))#list(np.arange(1,12)) \n",
    "year = 2023\n",
    "\n",
    "login = \"\"\n",
    "password = \"\""
   ]
  },
  {
   "cell_type": "markdown",
   "id": "24bf9e43-d30a-4367-b025-865cfe04c24d",
   "metadata": {},
   "source": [
    "#### Select product"
   ]
  },
  {
   "cell_type": "code",
   "execution_count": 14,
   "id": "e4a2f703-e78b-474f-afb2-6b6dcbfb3c3c",
   "metadata": {},
   "outputs": [
    {
     "name": "stdout",
     "output_type": "stream",
     "text": [
      "ASCAT h26 will be used for SM2Rain\n"
     ]
    }
   ],
   "source": [
    "if year >= 2022:\n",
    "    product = 'h26'\n",
    "    print('ASCAT h26 will be used for SM2Rain')\n",
    "if 2019 <= year < 2022:\n",
    "    product = 'h142'\n",
    "    print('ASCAT h142 will be used for SM2Rain')\n",
    "if 1992 <= year < 2019:\n",
    "    product = 'h141'\n",
    "    print('ASCAT h141 will be used for SM2Rain')\n",
    "if year < 1992:\n",
    "    print('No product for selected year')\n",
    "    "
   ]
  },
  {
   "cell_type": "markdown",
   "id": "c9d54cd1-1755-457f-987e-1b271e9533cf",
   "metadata": {},
   "source": [
    "## Extract ASCAT RZSM"
   ]
  },
  {
   "cell_type": "code",
   "execution_count": 4,
   "id": "b6e0cab8-87b3-4ad2-9e97-658528e639e0",
   "metadata": {},
   "outputs": [
    {
     "name": "stdout",
     "output_type": "stream",
     "text": [
      "ASCAT RZSM files saved in /scratch/b/b382028/sm2rain/data/ascat_daily_sm/2021/h142_2021123100_R01.nc\n"
     ]
    }
   ],
   "source": [
    "filename, file_path = extract_ascat_rzsm.download_ascat_rzsm(path_to_ascat_rzsm+str(year), days, months, year, login, password)\n",
    "print(f'ASCAT RZSM files saved in {file_path}')"
   ]
  },
  {
   "cell_type": "markdown",
   "id": "d694f8bc-0d71-45bb-b64c-0834a78445b8",
   "metadata": {},
   "source": [
    "# Preprocessing"
   ]
  },
  {
   "cell_type": "markdown",
   "id": "b73347a6-4abe-43e6-99fd-c47a69b63cfd",
   "metadata": {},
   "source": [
    "### Prepare ASCAT Root Zone Soil Moisture (H26, H141 or H142)"
   ]
  },
  {
   "cell_type": "code",
   "execution_count": 15,
   "id": "d1322a39-5d57-46e3-a29b-7c07b9e101ed",
   "metadata": {},
   "outputs": [],
   "source": [
    "def preprocess_coordinates(ds):\n",
    "    \"\"\"\n",
    "    Assign the coordinates of ds_first to all timesteps. (Some timesteps in h26 ascat rzsm datasets have very slighty different coordinates)\n",
    "    \n",
    "    ds: xarray dataset\n",
    "    \n",
    "    Returns xarray dataset\n",
    "    \"\"\"\n",
    "    ds['lat'] = np.around(ds_first['lat'].values, 2)\n",
    "    ds['lon'] = np.around(ds_first['lon'].values, 2)\n",
    "    \n",
    "    return ds"
   ]
  },
  {
   "cell_type": "code",
   "execution_count": 16,
   "id": "1dbae949-334b-4605-beb9-640363e6ab24",
   "metadata": {},
   "outputs": [],
   "source": [
    "ascat_file_name = f'{product}_{year}010100_R01.nc'  \n",
    "ds_first = xr.open_dataset(os.path.join(path_to_ascat_rzsm+str(year),ascat_file_name)) #Open first dataset for specifying the lon lat coordinates\n",
    "\n",
    "DS = xr.open_mfdataset(os.path.join(path_to_ascat_rzsm+str(year), '*.nc'), preprocess=preprocess_coordinates, parallel=True) #Merge all datasets and assign the coordinates of ds_first to all days\n",
    "\n",
    "DS = DS.assign_coords(lon=(DS.lon + 180) % 360 - 180) #convert ascat coordinates from 360 system to 180\n",
    "DS = DS.sortby('lat')\n",
    "DS = DS.sortby('lon')\n",
    "\n",
    "DS_subset = DS.sel(lat=slice(MinLat,MaxLat), lon=slice(MinLon,MaxLon)) #Make subset"
   ]
  },
  {
   "cell_type": "markdown",
   "id": "330a18d6-3814-4b6c-8126-22ea73c29508",
   "metadata": {},
   "source": [
    "#### Export merged ASCAT SM data"
   ]
  },
  {
   "cell_type": "code",
   "execution_count": 18,
   "id": "1ee8b8af-46ff-4ee1-a7c7-9734d6d5ff4e",
   "metadata": {},
   "outputs": [],
   "source": [
    "# year_first = DS_subset.time.values[0].astype('datetime64[Y]').astype(int)  + 1970\n",
    "# year_last = DS_subset.time.values[-1].astype('datetime64[Y]').astype(int)  + 1970\n",
    "# years = np.unique(np.arange(year_first, year_last+1))\n",
    "\n",
    "# for year in years:\n",
    "#     DS_subset['var40'].sel(time=DS_subset.time.dt.year.isin([year])).to_netcdf(f'data/ascat_{product}_sm_{year}_R01_subset.nc') # Export data per year\n",
    "# DS_subset = xr.open_dataset('data/soilmoisture_subsets/ascat_h26_sm_2022_R01_subset.nc')\n",
    "DS_subset['var40'].to_netcdf('data/soilmoisture_subsets/ascat_h142_sm_2023_R01_subset_westafrica.nc')\n",
    "# DS_subset"
   ]
  },
  {
   "cell_type": "markdown",
   "id": "c9803a22-7a93-4a21-9bac-43b7558b71d8",
   "metadata": {},
   "source": [
    "### Prepare TAHMO data"
   ]
  },
  {
   "cell_type": "code",
   "execution_count": 218,
   "id": "77c884b0-e6d1-4ed1-90f8-2279e9fe3f6b",
   "metadata": {},
   "outputs": [],
   "source": [
    "list_stations = []\n",
    "data_folder = path_to_tahmo\n",
    "\n",
    "### Create list of all tahmo stations\n",
    "for i in range(len(os.listdir(data_folder))):\n",
    "    data_dir = os.path.join(data_folder, os.listdir(data_folder)[i])\n",
    "    if os.path.basename(data_dir).startswith('TA'):\n",
    "        station_name = os.path.basename(data_dir).split('.')[0]\n",
    "        list_stations.append(station_name)\n",
    "\n",
    "# Select the stations that are located within the subset\n",
    "list_stations_subset = utils.SelectStationsSubset(list_stations, path_to_metadata, MinLat, MaxLat, MinLon, MaxLon) ### Select all stations within subset"
   ]
  },
  {
   "cell_type": "markdown",
   "id": "d0536d1b-a212-4bc9-9f2d-e91a70788b97",
   "metadata": {},
   "source": [
    "#### Create dictionary with rainfall data per station"
   ]
  },
  {
   "cell_type": "code",
   "execution_count": 219,
   "id": "24c51291-5478-4826-a5d5-e1bb7956e8de",
   "metadata": {},
   "outputs": [],
   "source": [
    "data_folder = path_to_tahmo\n",
    "prec_ts_stations = {}\n",
    "\n",
    "## Create dictionary of rainfall data per station\n",
    "for i in range(len(os.listdir(data_folder))):\n",
    "    data_dir = os.path.join(data_folder, os.listdir(data_folder)[i])\n",
    "    if os.path.basename(data_dir).startswith('TA'):\n",
    "        station_name = os.path.basename(data_dir).split('.')[0]\n",
    "        if station_name in list_stations_subset:\n",
    "            station_data = pd.read_csv(data_dir, index_col=0, parse_dates=True)\n",
    "            # prec_ts_stations[station_name] = station_data.precip.loc[station_data.index.year==year]\n",
    "            nan_count = np.count_nonzero(np.isnan(station_data.precip.loc[station_data.index.year==year]))\n",
    "            if (nan_count / len(station_data.precip.loc[station_data.index.year==year])) < tol:\n",
    "                prec_ts_stations[station_name] = station_data.precip.loc[station_data.index.year==year]"
   ]
  },
  {
   "cell_type": "markdown",
   "id": "b388d346-59e4-4646-834b-bdc621172cf7",
   "metadata": {},
   "source": [
    "### Create dictionary with SM data at stations"
   ]
  },
  {
   "cell_type": "code",
   "execution_count": 221,
   "id": "035ca451-a8e2-407c-8ef7-176d00b3d310",
   "metadata": {},
   "outputs": [],
   "source": [
    "sm_ts_stations = utils.timeSeriesAllTahmoFromNetCDF(f'data/soilmoisture_subsets/ascat_{product}_sm_{year}_R01_subset.nc', path_to_metadata, list_stations_subset, 'var40') #SM timeseries per TAHMO station (0-7cm depth)\n",
    "\n",
    "if product == 'h26':\n",
    "    sm_ts_stations = utils.remove_multiindex(sm_ts_stations) ## Clean index (only needed in h26 product)\n",
    "\n",
    "sm_ts_stations = {key: value for key, value in sm_ts_stations.items() if key in prec_ts_stations}"
   ]
  },
  {
   "cell_type": "markdown",
   "id": "4d9da713-f23d-48aa-badf-b1173804c4af",
   "metadata": {},
   "source": [
    "# Create rainfall classes"
   ]
  },
  {
   "cell_type": "code",
   "execution_count": 222,
   "id": "379171a3-6273-4882-870e-05e4b7a26651",
   "metadata": {},
   "outputs": [],
   "source": [
    "path_to_ascat_file = f'data/soilmoisture_subsets/ascat_{product}_sm_{year}_R01_subset.nc'\n",
    "\n",
    "rainfall_grid, rainclass_dic = utils.create_rainfall_class_grid(path_to_tahmo, path_to_metadata, path_to_ascat_file, list_stations_subset, min_value, max_value, nclasses)\n",
    "\n",
    "rainclass_dic = {key: value for key, value in rainclass_dic.items() if key in prec_ts_stations}"
   ]
  },
  {
   "cell_type": "markdown",
   "id": "4c08d5c3-2c1a-4466-ab86-f9e2b9befd7f",
   "metadata": {},
   "source": [
    "### Select subset for calibration/validation"
   ]
  },
  {
   "cell_type": "code",
   "execution_count": 223,
   "id": "ecc163e5-7bc3-49ef-ba3a-edb2aab01c1a",
   "metadata": {},
   "outputs": [],
   "source": [
    "rainclass_dic_subset, unselected_stations = utils.select_subset_stations(rainclass_dic, num_stations_to_select)"
   ]
  },
  {
   "cell_type": "code",
   "execution_count": 117,
   "id": "7d858223-fc80-4cab-8c38-6de46a5da189",
   "metadata": {},
   "outputs": [],
   "source": [
    "# rainclass_dic_subset\n",
    "file_path = f'selected_stations_{ID}.pkl'\n",
    "\n",
    "with open(file_path, 'wb') as file:\n",
    "    pickle.dump(rainclass_dic_subset, file)"
   ]
  },
  {
   "cell_type": "markdown",
   "id": "e63ceba6-9b2c-45a6-b8aa-03d96f239439",
   "metadata": {},
   "source": [
    "# Calibration"
   ]
  },
  {
   "cell_type": "code",
   "execution_count": 224,
   "id": "74d01bb1-a447-425d-8868-f0be8eaae575",
   "metadata": {},
   "outputs": [],
   "source": [
    "#Calibrate the parameters per rainclass. TO DO: allow for varying rainfall classes\n",
    "param_dic = sm2r_tahmo_algorithm.RainfallClass_params(nclasses, rainclass_dic_subset, prec_ts_stations, sm_ts_stations, 400, x0=None, bounds=None, options=None, method='TNC')\n"
   ]
  },
  {
   "cell_type": "markdown",
   "id": "23ca103e-6f6a-4ad4-932e-2789ccabf5b7",
   "metadata": {},
   "source": [
    "# SM2Rain"
   ]
  },
  {
   "cell_type": "markdown",
   "id": "f1de43ab-129b-4059-967a-a9acd9517607",
   "metadata": {},
   "source": [
    "### Assign SM2R parameters to grid"
   ]
  },
  {
   "cell_type": "code",
   "execution_count": 204,
   "id": "01244ff4-52d8-48a0-a4bf-179b9781ea15",
   "metadata": {},
   "outputs": [],
   "source": [
    "param_grid = sm2r_tahmo_algorithm.assign_sm2rparams_to_grid(path_to_ascat_file, path_to_metadata=None, param_dic_calibrated=param_dic, param_grid_rainclass=rainfall_grid, rainclass=True, sigma = sigma)"
   ]
  },
  {
   "cell_type": "code",
   "execution_count": 46,
   "id": "6e256075-dc11-4e76-947b-907a4f98428c",
   "metadata": {},
   "outputs": [],
   "source": [
    "param_grid.to_netcdf('/home/b/b382028/SUPER/data/param_grid_2018_2022.nc')"
   ]
  },
  {
   "cell_type": "code",
   "execution_count": 225,
   "id": "cd589b67-24bd-4a11-8d94-02a4e3accadd",
   "metadata": {},
   "outputs": [],
   "source": [
    "water_body_mask = np.isnan(DS_subset_sm2r) \n",
    "param_grid_regridded = param_grid.interp_like(water_body_mask)\n",
    "\n",
    "# param_grid = param_grid.where(~water_body_mask[0])\n",
    "\n",
    "for var_name in param_grid_regridded.variables:\n",
    "    if var_name not in param_grid_regridded.coords:  # Exclude coordinate variables\n",
    "        param_grid_regridded[var_name] = param_grid_regridded[var_name].where(~water_body_mask['precip'])"
   ]
  },
  {
   "cell_type": "code",
   "execution_count": 226,
   "id": "2e0185e7-4d75-41ea-a61e-d25f7469fc67",
   "metadata": {},
   "outputs": [
    {
     "data": {
      "text/plain": [
       "14.588076755352342"
      ]
     },
     "execution_count": 226,
     "metadata": {},
     "output_type": "execute_result"
    }
   ],
   "source": [
    "np.nanmax(param_grid_regridded['smoothed_a'].values)"
   ]
  },
  {
   "cell_type": "code",
   "execution_count": 227,
   "id": "4b110bb0-f278-4cf1-99b0-c0b1e468b213",
   "metadata": {},
   "outputs": [
    {
     "data": {
      "text/plain": [
       "<matplotlib.collections.QuadMesh at 0x7fff881a1450>"
      ]
     },
     "execution_count": 227,
     "metadata": {},
     "output_type": "execute_result"
    },
    {
     "data": {
      "image/png": "[encoded data removed]",
      "text/plain": [
       "<Figure size 640x480 with 2 Axes>"
      ]
     },
     "metadata": {},
     "output_type": "display_data"
    }
   ],
   "source": [
    "param_grid_regridded['smoothed_z'][:,:,0].plot(cmap='gnuplot')"
   ]
  },
  {
   "cell_type": "markdown",
   "id": "95aaefef-03e4-452d-b3b7-c955c2fd3d35",
   "metadata": {},
   "source": [
    "### Generate precip timeseries"
   ]
  },
  {
   "cell_type": "code",
   "execution_count": 45,
   "id": "5ad646f6-0dad-4657-83db-afc0b447f051",
   "metadata": {},
   "outputs": [],
   "source": [
    "DS_subset_sm2r =  sm2r_tahmo_algorithm.ts_sm2rain_grid(param_grid, 'data/ascat_h26_sm_2022_R01_subset.nc', smoothed=True)"
   ]
  },
  {
   "cell_type": "markdown",
   "id": "3eb5fca5-e410-496e-8dd4-eee9e5f82992",
   "metadata": {
    "tags": []
   },
   "source": [
    "\n",
    "#### Export results"
   ]
  },
  {
   "cell_type": "code",
   "execution_count": 38,
   "id": "2dd2e74a-ff5a-4be0-9f7a-5092039e786a",
   "metadata": {},
   "outputs": [],
   "source": [
    "DS_subset_sm2r['precip'].to_netcdf(f'data/ascat_{product}_sm2r_{year}_R01_rainclass_smoothed_{num_stations_to_select}_stations_{ID}.nc')"
   ]
  },
  {
   "cell_type": "markdown",
   "id": "e853be05-7d66-4773-9adc-b9f3a2fbbfad",
   "metadata": {},
   "source": [
    "#### Export"
   ]
  },
  {
   "cell_type": "code",
   "execution_count": 355,
   "id": "bb19e5ac-1b05-40ea-af8a-464525d99964",
   "metadata": {},
   "outputs": [],
   "source": [
    "sm2rain_corrected['precip'].to_netcdf(f'data/ascat_{product}_sm2r_{year}_R01_rainclass_smoothed_corrected.nc')"
   ]
  },
  {
   "cell_type": "markdown",
   "id": "82d5e343-1a6e-4d29-9fd7-32bde8f4003a",
   "metadata": {},
   "source": [
    "# Visualize"
   ]
  },
  {
   "cell_type": "code",
   "execution_count": 39,
   "id": "a00c7af4-aeca-4e84-853d-259063efebf3",
   "metadata": {},
   "outputs": [],
   "source": [
    "kenya = gpd.read_file(r'/home/b/b382028/sm2rain/data/shapes/kenya/gadm41_KEN_0.shp')\n",
    "rwanda = gpd.read_file(r'/home/b/b382028/sm2rain/data/shapes/rwanda/gadm41_RWA_0.shp')\n",
    "uganda = gpd.read_file(r'/home/b/b382028/sm2rain/data/shapes/uganda/gadm41_UGA_0.shp')\n",
    "tanzania = gpd.read_file(r'/home/b/b382028/sm2rain/data/shapes/tanzania/gadm41_TZA_0.shp')\n",
    "som = gpd.read_file(r'/home/b/b382028/sm2rain/data/shapes/somalia/gadm41_SOM_0.shp')\n",
    "ssd = gpd.read_file(r'/home/b/b382028/sm2rain/data/shapes/southsudan/gadm41_SSD_0.shp')\n",
    "eth = gpd.read_file(r'/home/b/b382028/sm2rain/data/shapes/ethiopia/gadm41_ETH_0.shp')\n",
    "\n",
    "def plot_sm2rain_slider(timestep):\n",
    "    # plt.figure(figsize=(10, 10))\n",
    "    fig, ax = plt.subplots(figsize=(10, 5))\n",
    "    sm2r['precip'].isel(time=timestep).plot(ax=ax, cbar_kwargs={\"label\": \"prec [mm d-1]\"})\n",
    "    plt.scatter(36.82, -1.29, color='r', label='Nairobi')\n",
    "    kenya.plot(ax=ax, edgecolor=\"black\", facecolor=\"none\")\n",
    "    rwanda.plot(ax=ax, edgecolor=\"black\",facecolor=\"none\")\n",
    "    uganda.plot(ax=ax, edgecolor=\"black\", facecolor=\"none\")\n",
    "    tanzania.plot(ax=ax, edgecolor=\"black\", facecolor=\"none\")\n",
    "    som.plot(ax=ax, edgecolor=\"black\", facecolor=\"none\")\n",
    "    ssd.plot(ax=ax, edgecolor=\"black\", facecolor=\"none\")\n",
    "    eth.plot(ax=ax, edgecolor=\"black\", facecolor=\"none\")\n",
    "    plt.title(f'Precipitation at {sm2r[\"time\"].isel(time=timestep).values.astype(\"M8[D]\").tolist().strftime(\"%Y-%m-%d\")}')\n",
    "    plt.xlabel('Latitude')\n",
    "    plt.ylabel('Longitude')\n",
    "    plt.legend()\n",
    "    plt.show()"
   ]
  },
  {
   "cell_type": "code",
   "execution_count": 42,
   "id": "7e4d9962-614b-4964-8aab-325b865ffc9d",
   "metadata": {},
   "outputs": [
    {
     "data": {
      "application/vnd.jupyter.widget-view+json": {
       "model_id": "3e9c787b23a148c98fdb8344cdcaf948",
       "version_major": 2,
       "version_minor": 0
      },
      "text/plain": [
       "interactive(children=(IntSlider(value=0, description='Time Step', max=364), Output()), _dom_classes=('widget-i…"
      ]
     },
     "execution_count": 42,
     "metadata": {},
     "output_type": "execute_result"
    }
   ],
   "source": [
    "sm2r = xr.open_dataset(f'data/ascat_{product}_sm2r_{year}_R01_rainclass_smoothed_{num_stations_to_select}_stations_{ID}.nc')\n",
    "\n",
    "\n",
    "time_slider = widgets.IntSlider(value=0, min=0, max=len(sm2r['time']) - 1, step=1, description='Time Step')\n",
    "widgets.interactive(plot_sm2rain_slider, timestep=time_slider)"
   ]
  },
  {
   "cell_type": "markdown",
   "id": "19271b1a-4e2c-4dc0-b671-2eb8763b6cb2",
   "metadata": {},
   "source": [
    "# Evaluation"
   ]
  },
  {
   "cell_type": "code",
   "execution_count": 25,
   "id": "36f8e3ce-c005-452d-bd45-7905856524a2",
   "metadata": {
    "tags": []
   },
   "outputs": [],
   "source": [
    "sm2r_rc = utils.timeSeriesAllTahmoFromNetCDF(f'data/ascat_{product}_sm2r_{year}_R01_rainclass_smoothed_{num_stations_to_select}_stations_{ID}.nc', path_to_metadata, list_stations_subset, 'precip') \n",
    "# sm2r_rc_corrected = utils.timeSeriesAllTahmoFromNetCDF(f'data/ascat_{product}_sm2r_{year}_R01_rainclass_smoothed_corrected.nc', path_to_metadata, list_stations_subset, 'precip')"
   ]
  },
  {
   "cell_type": "code",
   "execution_count": 20,
   "id": "700f17ef-ebd7-43f3-a964-6e5a3bd54f7f",
   "metadata": {
    "tags": []
   },
   "outputs": [
    {
     "name": "stdout",
     "output_type": "stream",
     "text": [
      "rmse:5.984759198416916, bias:0.3774086765235145,spc:0.4661689149856951,pod:0.7571613002137766,far:0.29337473011060616,hss:0.3184311955384881\n"
     ]
    }
   ],
   "source": [
    "rmse_dic, bias_dic, spc_dic, pod_dic, far_dic, hss_dic = utils.GetEvaluationStatisticsPerStation(path_to_tahmo, sm2r_rc, list_stations_subset, getMean=False)\n",
    "print(f'rmse:{np.nanmean(list(rmse_dic.values()))}, bias:{np.nanmean(list(bias_dic.values()))},spc:{np.nanmean(list(spc_dic.values()))},pod:{np.nanmean(list(pod_dic.values()))},far:{np.nanmean(list(far_dic.values()))},hss:{np.nanmean(list(hss_dic.values()))}')"
   ]
  },
  {
   "cell_type": "code",
   "execution_count": 42,
   "id": "46f9ae92-fecc-4777-9cf9-6c413d829fa3",
   "metadata": {
    "tags": []
   },
   "outputs": [
    {
     "name": "stdout",
     "output_type": "stream",
     "text": [
      "rmse:8.946178278763659, bias:-2.655744991583153,spc:0.4451119197397313,pod:0.7105071743256773,far:0.29726911353264557,hss:0.2933564534077528\n"
     ]
    }
   ],
   "source": [
    "rmse_dic, bias_dic, spc_dic, pod_dic, far_dic, hss_dic = utils.GetEvaluationStatisticsPerStation(path_to_tahmo, sm2r_rc, list_stations_subset, getMean=False)\n",
    "print(f'rmse:{np.nanmean(list(rmse_dic.values()))}, bias:{np.nanmean(list(bias_dic.values()))},spc:{np.nanmean(list(spc_dic.values()))},pod:{np.nanmean(list(pod_dic.values()))},far:{np.nanmean(list(far_dic.values()))},hss:{np.nanmean(list(hss_dic.values()))}')"
   ]
  },
  {
   "cell_type": "code",
   "execution_count": null,
   "id": "26ce2b2d-bbf3-4655-83d7-e64202787799",
   "metadata": {},
   "outputs": [],
   "source": [
    "nstations = 10\n",
    "ID = 'A'\n",
    "year = 2018\n",
    "dic = {}\n",
    "ds = xr.open_dataset(f'/scratch/b/b382028/sm2rain/data/runs/ascat_sm2r_20180101_20221231_R01_rainclass_smoothed_{nstations}_stations_20{ID}.nc')\n",
    "ts = utils.timeSeriesAllTahmoFromNetCDF(ds['precip'].sel(time=str(year)),\n",
    "    'data/tahmo/metadata.csv', list_stations_subset, 'precip'\n",
    ")\n",
    "dic[year] = "
   ]
  }
 ],
 "metadata": {
  "kernelspec": {
   "display_name": "1 Python 3 (based on the module python3/2023.01)",
   "language": "python",
   "name": "python3_2023_01"
  },
  "language_info": {
   "codemirror_mode": {
    "name": "ipython",
    "version": 3
   },
   "file_extension": ".py",
   "mimetype": "text/x-python",
   "name": "python",
   "nbconvert_exporter": "python",
   "pygments_lexer": "ipython3",
   "version": "3.10.10"
  }
 },
 "nbformat": 4,
 "nbformat_minor": 5
}
