{
 "cells": [
  {
   "cell_type": "code",
   "execution_count": 1,
   "id": "16bc14cf-fb1d-4011-9cb5-b8edbf25d400",
   "metadata": {
    "tags": []
   },
   "outputs": [],
   "source": [
    "import os\n",
    "import sys\n",
    "notebook_dir = os.getcwd()\n",
    "project_root = os.path.abspath(os.path.join(notebook_dir, '..'))\n",
    "sys.path.append(project_root)\n",
    "\n",
    "import numpy as np\n",
    "import matplotlib.pyplot as plt\n",
    "from datetime import datetime\n",
    "import time\n",
    "import pandas as pd\n",
    "import xarray as xr\n",
    "import geopandas as gpd\n",
    "import ipywidgets as widgets\n",
    "from IPython.display import display\n",
    "import warnings\n",
    "import pickle\n",
    "\n",
    "from extract_data import extract_imerg_daily, extract_era5_prec_daily, extract_chirps_daily, extract_chpclim\n",
    "import SUPER_functions_pixels\n",
    "import utils\n",
    "\n",
    "# Ignore the specific RuntimeWarning\n",
    "warnings.filterwarnings(\"ignore\", category=RuntimeWarning)"
   ]
  },
  {
   "cell_type": "markdown",
   "id": "9a0c684f-f9b3-4862-bf1d-550a6a5ae22f",
   "metadata": {},
   "source": [
    "# Settings"
   ]
  },
  {
   "cell_type": "code",
   "execution_count": 23,
   "id": "f74647e4-cfd0-4f67-b1ca-2875595c6b33",
   "metadata": {},
   "outputs": [],
   "source": [
    "path_imerg_data = project_root+ '/data/imerg/imerg_2018_2022_A_28.45_43.55_-5.05_5.45.nc' #Path to IMERG data\n",
    "path_era5_data = project_root+ '/data/era5/era5_2018_2022_A_28.45_43.55_-5.05_5.45.nc' #Path to ERA5 data\n",
    "path_chirps_data = project_root+ '/data/chirps/chirps_2018_2022_A_28.45_43.55_-5.05_5.45.nc' #Path to CHIRPS data\n",
    "path_sm2r_data = project_root+ '/data/sm2rain/ascat_sm2r_20180101_20221231_R01_rainclass_smoothed_All_stations_C.nc' #Path to SM2Rain data\n",
    "path_chpclim_data = project_root+ '/data/chpclim/chpclim28.5_43.5_-5.0_5.4.nc' #Path to CHPClim data\n",
    "path_to_tahmo = project_root+ '/data/tahmo' #Path to TAHMO data\n",
    "path_to_metadata = project_root+ '/data/tahmo/metadata.csv' #Path to TAHMO metadata file\n",
    "path_to_qualityflags = project_root+'/data/quality_flags.csv'\n",
    "\n",
    "[MinLon,MaxLon,MinLat,MaxLat] =  [28.5,43.5,-5.0,5.4]  # AOI\n",
    "subset = [MinLon,MaxLon,MinLat,MaxLat]\n",
    "\n",
    "start_time = datetime(2018, 1, 1) #Start time\n",
    "end_time = datetime(2022, 12, 31) #Start time\n",
    "year = start_time.year\n",
    "\n",
    "\n",
    "nclasses = 7\n",
    "min_value = 0\n",
    "max_value = 1800\n",
    "sigma=5.0\n",
    "tol = 0.2\n",
    "ID = 'ER_SM'\n",
    "num_stations_to_select = 'All' # 'All' or integer\n",
    "\n",
    "data_flags_included = True #True if data quality flags are used for removing dubious TAHMO data\n"
   ]
  },
  {
   "cell_type": "markdown",
   "id": "2b993763-bf73-4e83-84fb-b8ba5822d022",
   "metadata": {},
   "source": [
    "## Extract Data"
   ]
  },
  {
   "cell_type": "code",
   "execution_count": 15,
   "id": "f7384852-31ec-44e7-9b54-25865642a181",
   "metadata": {},
   "outputs": [],
   "source": [
    "imerg_precipitation = xr.open_dataset(path_imerg_data)\n",
    "sm2r_precipitation = xr.open_dataset(path_sm2r_data)\n",
    "era5_precipitation = xr.open_dataset(path_era5_data)\n",
    "chirps_precipitation = xr.open_dataset(path_chirps_data)\n",
    "chpclim_precipitation = xr.open_dataset(path_chpclim_data)"
   ]
  },
  {
   "cell_type": "markdown",
   "id": "b3263e67-7b39-4840-9bd0-f6cc27d404ac",
   "metadata": {},
   "source": [
    "## Data preprocessing"
   ]
  },
  {
   "cell_type": "markdown",
   "id": "e517330b-e40d-41fe-8738-4b147bdd3869",
   "metadata": {},
   "source": [
    "#### Regrid datasets"
   ]
  },
  {
   "cell_type": "code",
   "execution_count": 16,
   "id": "7a0531d6-70be-4e93-86d0-ab20cad9274b",
   "metadata": {},
   "outputs": [],
   "source": [
    "ds_imerg_regridded = utils.regrid_dataset(imerg_precipitation, subset, 0.1).transpose(\"time\", \"lon\", \"lat\")\n",
    "ds_era5_regridded = utils.regrid_dataset(era5_precipitation, subset, 0.1).transpose(\"time\", \"lon\", \"lat\")\n",
    "ds_chirps_regridded = utils.regrid_dataset(chirps_precipitation, subset, 0.1).transpose(\"time\", \"lon\", \"lat\")\n",
    "ds_sm2r_regridded = utils.regrid_dataset(sm2r_precipitation['precip'], subset, 0.1).transpose(\"time\", \"lon\", \"lat\")\n",
    "chpclim_regridded = utils.regrid_dataset(chpclim_precipitation, subset, 0.1).transpose(\"time\", \"lon\", \"lat\")['precip']"
   ]
  },
  {
   "cell_type": "markdown",
   "id": "be9d5f41-de02-4516-be48-19a3dc731e67",
   "metadata": {},
   "source": [
    "#### Rename  precipitation variable where needed"
   ]
  },
  {
   "cell_type": "code",
   "execution_count": 17,
   "id": "81222d1e-b433-4162-a9cd-3695964908c4",
   "metadata": {},
   "outputs": [],
   "source": [
    "ds_imerg_regridded = xr.DataArray(ds_imerg_regridded['precipitationCal'], name='precip')\n",
    "ds_era5_regridded = ds_era5_regridded.rename(tp='precip')"
   ]
  },
  {
   "cell_type": "markdown",
   "id": "78201c09-ae02-48dc-83d3-6a5945364fe7",
   "metadata": {},
   "source": [
    "#### ERA5"
   ]
  },
  {
   "cell_type": "code",
   "execution_count": 18,
   "id": "3dc9f42a-df32-40f4-9eda-c3f55d921052",
   "metadata": {},
   "outputs": [],
   "source": [
    "ds_era5_regridded = ds_era5_regridded.where(ds_era5_regridded.precip>0,0) * 1000 #meters to mm"
   ]
  },
  {
   "cell_type": "markdown",
   "id": "e85a217f-194c-4568-b067-bee7cd938aa2",
   "metadata": {},
   "source": [
    "#### CHPclim"
   ]
  },
  {
   "cell_type": "code",
   "execution_count": 19,
   "id": "8242c99e-ade6-4d80-bff1-5818c4a052d5",
   "metadata": {},
   "outputs": [],
   "source": [
    "chpclim = chpclim_regridded.rename({'time': 'month'})\n",
    "chpclim[\"month\"] = np.arange(1,13)"
   ]
  },
  {
   "cell_type": "markdown",
   "id": "c2ae5f56-86bd-48ec-928d-9e5faa0b96f9",
   "metadata": {},
   "source": [
    "### Water body mask"
   ]
  },
  {
   "cell_type": "code",
   "execution_count": 20,
   "id": "fa68df3f-b073-4be8-bfea-cb3d980d50f5",
   "metadata": {},
   "outputs": [],
   "source": [
    "water_body_mask = np.isnan(ds_sm2r_regridded) \n",
    "\n",
    "ds_era5_regridded = ds_era5_regridded.where(~water_body_mask[0])\n",
    "ds_chirps_regridded = ds_chirps_regridded.where(~water_body_mask[0])\n",
    "ds_imerg_regridded = ds_imerg_regridded.where(~water_body_mask[0])\n",
    "chpclim = chpclim.where(~water_body_mask[0])"
   ]
  },
  {
   "cell_type": "markdown",
   "id": "16486a91-3488-4900-9c24-b1f26805b4a8",
   "metadata": {
    "tags": []
   },
   "source": [
    "## Read TAHMO"
   ]
  },
  {
   "cell_type": "markdown",
   "id": "ac780898-e4da-47e0-a9a1-375a34f9fc26",
   "metadata": {},
   "source": [
    "#### Create dictionary with rainfall data per station"
   ]
  },
  {
   "cell_type": "code",
   "execution_count": 31,
   "id": "abc734a8-fc94-4252-9719-421c8f5cd28d",
   "metadata": {},
   "outputs": [],
   "source": [
    "if data_flags_included:\n",
    "    flags = pd.read_csv(path_to_qualityflags, index_col=0)  #Remove all flagged TAHMO data\n",
    "    mask = flags.iloc[:,-5:] > 0\n",
    "    \n",
    "    stacked_df = mask.stack()\n",
    "    flagged_data = stacked_df[stacked_df].index.tolist()\n",
    "    \n",
    "    flagged_data"
   ]
  },
  {
   "cell_type": "code",
   "execution_count": 32,
   "id": "7030349a-6a82-425f-bdd7-dd1de030516e",
   "metadata": {},
   "outputs": [],
   "source": [
    "list_stations = []\n",
    "data_folder = path_to_tahmo\n",
    "\n",
    "### Create list of all tahmo stations\n",
    "for i in range(len(os.listdir(data_folder))):\n",
    "    data_dir = os.path.join(data_folder, os.listdir(data_folder)[i])\n",
    "    if os.path.basename(data_dir).startswith('TA'):\n",
    "        station_name = os.path.basename(data_dir).split('.')[0]\n",
    "        list_stations.append(station_name)\n",
    "\n",
    "# Select the stations that are located within the subset\n",
    "list_stations_subset = utils.SelectStationsSubset(list_stations, path_to_metadata, MinLat, MaxLat, MinLon, MaxLon) "
   ]
  },
  {
   "cell_type": "markdown",
   "id": "d6dc52ff-903b-4f3b-a653-e0b942772b04",
   "metadata": {},
   "source": [
    "## SUPER algorithm"
   ]
  },
  {
   "cell_type": "code",
   "execution_count": null,
   "id": "0fd88f88-8580-4d38-84a4-2d9ddf139cd3",
   "metadata": {},
   "outputs": [],
   "source": [
    "# Extract coordinates \n",
    "time = ds_sm2r_regridded.time\n",
    "lon = ds_sm2r_regridded.lon\n",
    "lat = ds_sm2r_regridded.lat"
   ]
  },
  {
   "cell_type": "code",
   "execution_count": 35,
   "id": "8ca9e080-6c85-4880-b1d7-bbd89b951a73",
   "metadata": {},
   "outputs": [],
   "source": [
    "# Monthly correction\n",
    "est1c = SUPER_functions_pixels.monthly_correction(chpclim,ds_imerg_regridded)\n",
    "est2c = SUPER_functions_pixels.monthly_correction(chpclim,ds_chirps_regridded['precip'])\n",
    "est3c = SUPER_functions_pixels.monthly_correction(chpclim,ds_era5_regridded['precip'])\n",
    "est4c = SUPER_functions_pixels.monthly_correction(chpclim,ds_sm2r_regridded)"
   ]
  },
  {
   "cell_type": "code",
   "execution_count": 36,
   "id": "54c8ddbc-ca48-4a1e-9729-5396f7662424",
   "metadata": {},
   "outputs": [],
   "source": [
    "# Convert to numpy array (CTC function only works with numpy array)\n",
    "p1 = est3c.values #Dependent\n",
    "p2 = est4c.values #Dependent\n",
    "p3 = est1c.values #Independent\n",
    "p4 = est2c.values #Independent"
   ]
  },
  {
   "cell_type": "code",
   "execution_count": 37,
   "id": "799bae78-3676-4d4f-833c-f776247cb07b",
   "metadata": {},
   "outputs": [],
   "source": [
    "# QC-merging\n",
    "err_var = SUPER_functions_pixels.quadruple_weights(p1,p2,p3,p4) \n",
    "p_qc = SUPER_functions_pixels.merge_data_QC(err_var, [p1,p2,p3,p4])"
   ]
  },
  {
   "cell_type": "code",
   "execution_count": 38,
   "id": "6b322943-8209-4df9-8e40-8edce15467b2",
   "metadata": {},
   "outputs": [],
   "source": [
    "# CTC-merging\n",
    "m = SUPER_functions_pixels.CTC(p1,p3,p4, 0.5, 1.5)      # x=0.5, rain/no rain threshold # n=1.5, merging parameter (IMERG/ERA5/SM2Rain)"
   ]
  },
  {
   "cell_type": "code",
   "execution_count": 40,
   "id": "d293e466-4870-4e2b-84bd-8bc0d443c282",
   "metadata": {},
   "outputs": [],
   "source": [
    "# False Alarm correction\n",
    "norain_days = m < 0.5  # no-rain days\n",
    "p_final = p_qc.copy()\n",
    "p_final[norain_days] = 0 # set the merged data on these days to have no-rain"
   ]
  },
  {
   "cell_type": "code",
   "execution_count": 71,
   "id": "f7288de1-4f6a-4896-ada2-714c15f368bd",
   "metadata": {},
   "outputs": [],
   "source": [
    "# Put data back in a xarray and save to NetCDF\n",
    "super = xr.Dataset({\n",
    "    'precip': xr.DataArray(\n",
    "                data   = p_final, \n",
    "                dims   = ['time','lon','lat'],\n",
    "                coords = {'time': time, 'lon':lon, 'lat':lat},\n",
    "                attrs  = {\n",
    "                    'description': 'SUPER precipitation estimates',\n",
    "                    'units'     : 'mm/h'\n",
    "                    }\n",
    "                ),\n",
    "            },\n",
    "        attrs = {'description': 'Outputs of the SUPER group'}\n",
    "    )"
   ]
  },
  {
   "cell_type": "markdown",
   "id": "8f6957ae-1af0-4a5c-8fcd-c3bbe19a5715",
   "metadata": {},
   "source": [
    "## Post processing"
   ]
  },
  {
   "cell_type": "code",
   "execution_count": 72,
   "id": "459722ec-edd8-49b9-81da-e80949655d77",
   "metadata": {},
   "outputs": [],
   "source": [
    "super = super.where(super >=0, 0) \n",
    "\n",
    "# Water Mask\n",
    "super = super.where(~water_body_mask[0])\n"
   ]
  },
  {
   "cell_type": "markdown",
   "id": "bda7abfa-2a82-405a-9e01-b4886da6d2e2",
   "metadata": {},
   "source": [
    "## Export"
   ]
  },
  {
   "cell_type": "code",
   "execution_count": 79,
   "id": "9854e584-38dd-4f5f-ae01-5723f19b7f91",
   "metadata": {},
   "outputs": [],
   "source": [
    "super.transpose(\"time\", \"lat\", \"lon\").to_netcdf(f'{project_root}/data/super_{start_time.year}_{end_time.year}_{ID}_{MinLon}_{MaxLon}_{MinLat}_{MaxLat}.nc')"
   ]
  },
  {
   "cell_type": "markdown",
   "id": "d9363849-7e28-421f-9862-aaa32eda1a6f",
   "metadata": {},
   "source": [
    "## Validation"
   ]
  },
  {
   "cell_type": "code",
   "execution_count": 81,
   "id": "7d2660d1-5a5c-4159-a8c3-dad5f6c9485b",
   "metadata": {},
   "outputs": [
    {
     "name": "stderr",
     "output_type": "stream",
     "text": [
      "/home/b/b382028/SM2Rain_TAHMO_SRPmerging_EastAfrica/SUPER/utils.py:120: UserWarning: Could not infer format, so each element will be parsed individually, falling back to `dateutil`. To ensure parsing is consistent and as-expected, please specify a format.\n",
      "  station_data = pd.read_csv(data_dir, index_col=0, parse_dates=True)\n"
     ]
    },
    {
     "name": "stdout",
     "output_type": "stream",
     "text": [
      "rmse = 13.32264231613737, bias = -0.43313258952876116, spearman correlation = 0.4834609026320591, KGE = 0.25516642969477993, pod = 0.41346891321287976, far = 0.11213633878398659, hss = 0.2619645564549368\n"
     ]
    }
   ],
   "source": [
    "ts_super = utils.timeSeriesAllTahmoFromNetCDF(f'{project_root}/data/super_{start_time.year}_{end_time.year}_{ID}_{MinLon}_{MaxLon}_{MinLat}_{MaxLat}.nc', path_to_metadata, list_stations_subset, 'precip') ## calibrated with 2021/2022\n",
    "rmse, bias, spearman, kge, pod, far, hss = utils.GetEvaluationStatisticsPerStation(path_to_tahmo,path_to_qualityflags, ts_super, list_stations_subset, 0.25,correlation='spearman', only_raindays=True, getMean=True)\n",
    "print(f'rmse = {rmse}, bias = {bias}, spearman correlation = {spearman}, KGE = {kge}, pod = {pod}, far = {far}, hss = {hss}')"
   ]
  },
  {
   "cell_type": "markdown",
   "id": "d7101877-6541-4a47-ab05-fc00a3c74312",
   "metadata": {},
   "source": [
    "### Visualisation"
   ]
  },
  {
   "cell_type": "code",
   "execution_count": 90,
   "id": "9cca56ac-ac3e-4f1a-a360-a81d79089ee4",
   "metadata": {},
   "outputs": [],
   "source": [
    "kenya = gpd.read_file(f'{project_root}/data/shapes/kenya/gadm41_KEN_0.shp')\n",
    "rwanda = gpd.read_file(f'{project_root}/data/shapes/rwanda/gadm41_RWA_0.shp')\n",
    "uganda = gpd.read_file(f'{project_root}/data/shapes/uganda/gadm41_UGA_0.shp')\n",
    "tanzania = gpd.read_file(f'{project_root}/data/shapes/tanzania/gadm41_TZA_0.shp')\n",
    "som = gpd.read_file(f'{project_root}/data/shapes/somalia/gadm41_SOM_0.shp')\n",
    "ssd = gpd.read_file(f'{project_root}/data/shapes/southsudan/gadm41_SSD_0.shp')\n",
    "eth = gpd.read_file(f'{project_root}/data/shapes/ethiopia/gadm41_ETH_0.shp')\n",
    "brn = gpd.read_file(f'{project_root}/data/shapes/burundi/gadm41_BDI_0.shp')\n",
    "drc = gpd.read_file(f'{project_root}/data/shapes/drcongo/gadm41_COD_0.shp')\n",
    "\n",
    "def plot_super_slider(timestep):\n",
    "    # plt.figure(figsize=(10, 10))\n",
    "    fig, ax = plt.subplots(figsize=(4, 2))\n",
    "    super['precip'].isel(time=timestep).plot(ax=ax, cbar_kwargs={\"label\": \"precip [mm/d]\"})\n",
    "    \n",
    "    # plt.scatter(36.82, -1.29, color='r', label='Nairobi')\n",
    "    kenya.plot(ax=ax, edgecolor=\"black\", facecolor=\"none\")\n",
    "    rwanda.plot(ax=ax, edgecolor=\"black\",facecolor=\"none\")\n",
    "    uganda.plot(ax=ax, edgecolor=\"black\", facecolor=\"none\")\n",
    "    tanzania.plot(ax=ax, edgecolor=\"black\", facecolor=\"none\")\n",
    "    som.plot(ax=ax, edgecolor=\"black\", facecolor=\"none\")\n",
    "    ssd.plot(ax=ax, edgecolor=\"black\", facecolor=\"none\")\n",
    "    eth.plot(ax=ax, edgecolor=\"black\", facecolor=\"none\")\n",
    "    brn.plot(ax=ax, edgecolor=\"black\", facecolor=\"none\")\n",
    "    drc.plot(ax=ax, edgecolor=\"black\", facecolor=\"none\")\n",
    "\n",
    "    plt.title(f'Precipitation (SUPER) {super[\"time\"].isel(time=timestep).values.astype(\"M8[D]\").tolist().strftime(\"%Y-%m-%d\")}')\n",
    "    plt.xlabel('lon', size=10)\n",
    "    plt.ylabel('lat', size=10)\n",
    "    # plt.legend()\n",
    "    plt.show()"
   ]
  },
  {
   "cell_type": "code",
   "execution_count": 91,
   "id": "410274bf-888b-407a-a86a-8936bfde116d",
   "metadata": {},
   "outputs": [
    {
     "data": {
      "application/vnd.jupyter.widget-view+json": {
       "model_id": "99150769928f4d36b831f25349a51d20",
       "version_major": 2,
       "version_minor": 0
      },
      "text/plain": [
       "interactive(children=(IntSlider(value=0, description='Time Step', max=1825), Output()), _dom_classes=('widget-…"
      ]
     },
     "execution_count": 91,
     "metadata": {},
     "output_type": "execute_result"
    }
   ],
   "source": [
    "super = xr.open_dataset(f'{project_root}/data/super_{start_time.year}_{end_time.year}_{ID}_{MinLon}_{MaxLon}_{MinLat}_{MaxLat}.nc')\n",
    "\n",
    "\n",
    "time_slider = widgets.IntSlider(value=0, min=0, max=len(super['time']) - 1, step=1, description='Time Step')\n",
    "widgets.interactive(plot_super_slider, timestep=time_slider)"
   ]
  },
  {
   "cell_type": "code",
   "execution_count": null,
   "id": "8af3bae0-da85-4261-80e9-243f3090e99c",
   "metadata": {},
   "outputs": [],
   "source": []
  }
 ],
 "metadata": {
  "kernelspec": {
   "display_name": "1 Python 3 (based on the module python3/2023.01)",
   "language": "python",
   "name": "python3_2023_01"
  },
  "language_info": {
   "codemirror_mode": {
    "name": "ipython",
    "version": 3
   },
   "file_extension": ".py",
   "mimetype": "text/x-python",
   "name": "python",
   "nbconvert_exporter": "python",
   "pygments_lexer": "ipython3",
   "version": "3.10.10"
  }
 },
 "nbformat": 4,
 "nbformat_minor": 5
}
