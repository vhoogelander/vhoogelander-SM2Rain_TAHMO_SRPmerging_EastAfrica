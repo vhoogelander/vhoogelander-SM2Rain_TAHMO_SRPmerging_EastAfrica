{
 "cells": [
  {
   "cell_type": "code",
   "execution_count": 1,
   "id": "e0043184-847a-4d31-8de1-fa4d95f83e46",
   "metadata": {},
   "outputs": [],
   "source": [
    "import os\n",
    "import sys\n",
    "notebook_dir = os.getcwd()\n",
    "project_root = os.path.abspath(os.path.join(notebook_dir, '..'))\n",
    "sys.path.append(project_root)\n",
    "\n",
    "import pandas as pd\n",
    "import numpy as np\n",
    "import xarray as xr\n",
    "from datetime import datetime, timedelta\n",
    "import geopandas as gpd\n",
    "import matplotlib.pyplot as plt\n",
    "import ipywidgets as widgets\n",
    "import pickle\n",
    "import warnings\n",
    "import sm2r_tahmo_algorithm\n",
    "import extract_ascat_rzsm\n",
    "import utils\n",
    "# Ignore the specific RuntimeWarning\n",
    "warnings.filterwarnings(\"ignore\", category=RuntimeWarning)"
   ]
  },
  {
   "cell_type": "markdown",
   "id": "b47fc353-de5f-4040-9428-635c5af2641a",
   "metadata": {},
   "source": [
    "# Settings"
   ]
  },
  {
   "cell_type": "code",
   "execution_count": 2,
   "id": "e66de1aa-dc00-4670-a1d9-e727fc736e61",
   "metadata": {},
   "outputs": [],
   "source": [
    "path_to_sm_data = project_root+ '/data/soilmoisture_subsets/' #Path to ASCAT soil moisutre subsets   \n",
    "path_to_tahmo = project_root+ '/data/tahmo/'  # Path to TAHMO data\n",
    "path_to_metadata = project_root+ '/data/tahmo/metadata.csv' #Path to TAHMO metadata file\n",
    "\n",
    "[MinLon,MaxLon,MinLat,MaxLat] =  [28.45,43.55,-5.05,5.45] # AOI\n",
    "\n",
    "tol = 0.2 # Fraction of NaN data in TAHMO data (if nan_count/datapoints <tol, than data is included)\n",
    "nclasses = 7 #Number of Rainfall classes\n",
    "min_value = 0 # Min value in rainfall classification\n",
    "max_value = 1800 # Max value in rainfall classification\n",
    "\n",
    "sigma=5.0 #Smoothing parameter for parameter fields\n",
    "\n",
    "ID = 'E' # ID of SM2Rain generation\n",
    "num_stations_to_select = 'All'  # Number of stations to select in SM2Rain calibration 'All' #'All' or int\n",
    "\n",
    "start_time = datetime(2018, 1, 1) #Start time of SM2Rain generation\n",
    "end_time = datetime(2022, 12, 31) #End time of SM2Rain generation\n",
    "\n",
    "start_cal = datetime(2022, 1, 1) #Start time of SM2Rain calibration\n",
    "end_cal = datetime(2022, 12, 31) #End time of SM2Rain calibration\n",
    "\n",
    "data_flags_included = True #True if data quality flags are used for removing dubious TAHMO data\n",
    "path_to_qualityflags = project_root+'/data/quality_flags.csv'\n",
    "\n",
    "timeid = f\"{start_time.strftime('%Y%m%d')}_{end_time.strftime('%Y%m%d')}\"\n"
   ]
  },
  {
   "cell_type": "markdown",
   "id": "c9d54cd1-1755-457f-987e-1b271e9533cf",
   "metadata": {},
   "source": [
    "## Select ASCAT RZSM data"
   ]
  },
  {
   "cell_type": "code",
   "execution_count": 3,
   "id": "13968a19-4597-48dd-abbc-c8a798115524",
   "metadata": {},
   "outputs": [],
   "source": [
    "years = list(range(start_time.year, end_time.year + 1)) \n",
    "\n",
    "datasets_path = path_to_sm_data+ \"ascat_*_sm_*_R01_subset.nc\"\n",
    "\n",
    "sm_data_years = xr.open_mfdataset(datasets_path)\n",
    "sm_data_years = sm_data_years['var40'].sel(time=slice(start_time, end_time))[:,:,:]\n",
    "sm_data = sm_data_years\n",
    "sm_data_values = sm_data_years.values \n",
    "\n",
    "new_var = xr.Variable(dims=sm_data_years.dims, data=sm_data_values)\n",
    "\n",
    "# Add the new variable to the dataset\n",
    "sm_data_years['var40'] = new_var \n",
    "\n",
    "sm_data_years['var40'].to_netcdf(f'smdata_{ID}.nc') # Generate temporally file"
   ]
  },
  {
   "cell_type": "markdown",
   "id": "d694f8bc-0d71-45bb-b64c-0834a78445b8",
   "metadata": {},
   "source": [
    "# Preprocessing"
   ]
  },
  {
   "cell_type": "markdown",
   "id": "c9803a22-7a93-4a21-9bac-43b7558b71d8",
   "metadata": {},
   "source": [
    "### Prepare TAHMO data"
   ]
  },
  {
   "cell_type": "code",
   "execution_count": 4,
   "id": "96e6e51a-cd20-40d3-bf79-7e2339556bc0",
   "metadata": {},
   "outputs": [],
   "source": [
    "if data_flags_included:\n",
    "    flags = pd.read_csv(path_to_qualityflags, index_col=0)  #Remove all flagged TAHMO data\n",
    "    mask = flags.iloc[:,-5:] > 0\n",
    "    \n",
    "    stacked_df = mask.stack()\n",
    "    flagged_data = stacked_df[stacked_df].index.tolist()\n",
    "    \n",
    "    flagged_data"
   ]
  },
  {
   "cell_type": "code",
   "execution_count": 5,
   "id": "a0541c8c-8445-46c2-99c0-5a67e038b05b",
   "metadata": {},
   "outputs": [],
   "source": [
    "list_stations = []\n",
    "data_folder = path_to_tahmo\n",
    "\n",
    "### Create list of all tahmo stations\n",
    "for i in range(len(os.listdir(data_folder))):\n",
    "    data_dir = os.path.join(data_folder, os.listdir(data_folder)[i])\n",
    "    if os.path.basename(data_dir).startswith('TA'):\n",
    "        station_name = os.path.basename(data_dir).split('.')[0]\n",
    "        list_stations.append(station_name)\n",
    "\n",
    "# Select the stations that are located within the subset\n",
    "list_stations_subset = utils.SelectStationsSubset(list_stations, path_to_metadata, MinLat, MaxLat, MinLon, MaxLon) "
   ]
  },
  {
   "cell_type": "markdown",
   "id": "d0536d1b-a212-4bc9-9f2d-e91a70788b97",
   "metadata": {},
   "source": [
    "#### Create dictionary with rainfall data per station"
   ]
  },
  {
   "cell_type": "code",
   "execution_count": 6,
   "id": "feb66b0b-dd75-48dc-881d-46417855c0d6",
   "metadata": {},
   "outputs": [],
   "source": [
    "start_time = start_cal \n",
    "end_time = end_cal\n",
    "\n",
    "data_folder = path_to_tahmo\n",
    "prec_ts_stations = {}\n",
    "\n",
    "## Create dictionary of rainfall data per station\n",
    "for i in range(len(os.listdir(data_folder))):\n",
    "    data_dir = os.path.join(data_folder, os.listdir(data_folder)[i])\n",
    "    if os.path.basename(data_dir).startswith('TA'):\n",
    "        station_name = os.path.basename(data_dir).split('.')[0]\n",
    "        if station_name in list_stations_subset:\n",
    "            station_data = pd.read_csv(data_dir, index_col=0, parse_dates=True)\n",
    "            station_data = station_data.loc[(station_data.index <=end_cal) & (station_data.index >= start_cal)]\n",
    "            nan_count = np.count_nonzero(np.isnan(station_data.precip.loc[(station_data.index >= start_time) & (station_data.index <= end_time)]))\n",
    "            if (nan_count / len(station_data.precip.loc[(station_data.index >= start_time) & (station_data.index <= end_time)])) < tol:\n",
    "                prec_ts_stations[station_name] = station_data.precip.loc[(station_data.index >= start_time) & (station_data.index <= end_time)]\n",
    "                \n",
    "if data_flags_included:\n",
    "    for i in range(len(flagged_data)):\n",
    "        if flagged_data[i][0] in prec_ts_stations.keys():\n",
    "            prec_ts_stations[flagged_data[i][0]].loc[prec_ts_stations[flagged_data[i][0]].index.year == float(flagged_data[i][1])] = np.nan"
   ]
  },
  {
   "cell_type": "markdown",
   "id": "b388d346-59e4-4646-834b-bdc621172cf7",
   "metadata": {},
   "source": [
    "### Create dictionary with SM data at stations"
   ]
  },
  {
   "cell_type": "code",
   "execution_count": 7,
   "id": "fd992a8b-44e4-4dc0-8665-86d4f2e555da",
   "metadata": {},
   "outputs": [],
   "source": [
    "sm_ts_stations = utils.timeSeriesAllTahmoFromxArray(sm_data['var40'][:,:,:,0], path_to_metadata, list_stations_subset, 'var40') #SM timeseries per TAHMO station (0-7cm depth)\n",
    "\n",
    "\n",
    "sm_ts_stations = {key: value for key, value in sm_ts_stations.items() if key in prec_ts_stations}\n",
    "sm_ts_stations =  {key: value.loc[(value.index >= start_time) & (value.index <= end_time)] for key, value in sm_ts_stations.items()}"
   ]
  },
  {
   "cell_type": "markdown",
   "id": "4d9da713-f23d-48aa-badf-b1173804c4af",
   "metadata": {},
   "source": [
    "# Create rainfall classes"
   ]
  },
  {
   "cell_type": "code",
   "execution_count": 8,
   "id": "cd6a5d8b-7fd1-4511-995f-de72dcdc1834",
   "metadata": {},
   "outputs": [],
   "source": [
    "lon_coords, lat_coords = sm_data.lon.values, sm_data.lat.values\n",
    "\n",
    "rainfall_grid, rainclass_dic = utils.create_rainfall_class_grid(path_to_tahmo, path_to_metadata, lon_coords, lat_coords, list_stations_subset, min_value, max_value, nclasses)\n",
    "\n",
    "rainclass_dic = {key: value for key, value in rainclass_dic.items() if key in prec_ts_stations} #Dictionary of Rainfall class, lon, and lat of every TAHMO statioin\n"
   ]
  },
  {
   "cell_type": "markdown",
   "id": "4c08d5c3-2c1a-4466-ab86-f9e2b9befd7f",
   "metadata": {},
   "source": [
    "### Select subset for calibration/validation"
   ]
  },
  {
   "cell_type": "code",
   "execution_count": 9,
   "id": "ecc163e5-7bc3-49ef-ba3a-edb2aab01c1a",
   "metadata": {},
   "outputs": [
    {
     "data": {
      "text/plain": [
       "126"
      ]
     },
     "execution_count": 9,
     "metadata": {},
     "output_type": "execute_result"
    }
   ],
   "source": [
    "rainclass_dic_subset, unselected_stations = utils.select_subset_stations(rainclass_dic, num_stations_to_select)\n",
    "len(rainclass_dic_subset)"
   ]
  },
  {
   "cell_type": "code",
   "execution_count": 10,
   "id": "c7edac54-0241-4835-885d-e157f736e429",
   "metadata": {},
   "outputs": [],
   "source": [
    "# rainclass_dic_subset\n",
    "file_path = f'{project_root}/data/selected_stations_{ID}.pkl' #File name\n",
    "\n",
    "with open(file_path, 'wb') as file:\n",
    "    pickle.dump(rainclass_dic_subset, file) #Export Pickle file with all selected stations for SM2Rain calibration"
   ]
  },
  {
   "cell_type": "markdown",
   "id": "e63ceba6-9b2c-45a6-b8aa-03d96f239439",
   "metadata": {},
   "source": [
    "# Calibration"
   ]
  },
  {
   "cell_type": "code",
   "execution_count": 11,
   "id": "c4c033ae-8ccc-4ed6-a946-5470d7aa1830",
   "metadata": {},
   "outputs": [],
   "source": [
    "#Calibrate the parameters per rainclass\n",
    "param_dic = sm2r_tahmo_algorithm.RainfallClass_params(nclasses, rainclass_dic_subset, prec_ts_stations, sm_ts_stations, 400, x0=None, bounds=None, options=None, method='TNC')"
   ]
  },
  {
   "cell_type": "markdown",
   "id": "23ca103e-6f6a-4ad4-932e-2789ccabf5b7",
   "metadata": {},
   "source": [
    "# SM2Rain"
   ]
  },
  {
   "cell_type": "markdown",
   "id": "f1de43ab-129b-4059-967a-a9acd9517607",
   "metadata": {},
   "source": [
    "### Extrapolate SM2R parameters to grid"
   ]
  },
  {
   "cell_type": "code",
   "execution_count": 12,
   "id": "01244ff4-52d8-48a0-a4bf-179b9781ea15",
   "metadata": {},
   "outputs": [],
   "source": [
    "param_grid = sm2r_tahmo_algorithm.assign_sm2rparams_to_grid(lon_coords, lat_coords, path_to_metadata, param_dic_calibrated=param_dic, param_grid_rainclass=rainfall_grid, rainclass=True, sigma=sigma)"
   ]
  },
  {
   "cell_type": "code",
   "execution_count": 13,
   "id": "6e256075-dc11-4e76-947b-907a4f98428c",
   "metadata": {},
   "outputs": [],
   "source": [
    "param_grid.to_netcdf(f'{project_root}/data/param_grid_{start_time.year}_{end_time.year}_{ID}.nc') #Export parameter grid"
   ]
  },
  {
   "cell_type": "code",
   "execution_count": 14,
   "id": "3975b081-1414-42dd-b5d6-7011cb9f90db",
   "metadata": {},
   "outputs": [],
   "source": [
    "water_body_mask = np.isnan(sm_data_years['var40']) ## Create water body mask from ASCAT data\n",
    "param_grid_regridded = param_grid.interp_like(water_body_mask)\n",
    "\n",
    "for var_name in param_grid_regridded.variables:\n",
    "    if var_name not in param_grid_regridded.coords:  # Exclude coordinate variables\n",
    "        param_grid_regridded[var_name] = param_grid_regridded[var_name].where(~water_body_mask)"
   ]
  },
  {
   "cell_type": "code",
   "execution_count": 15,
   "id": "e1a2b541-0541-43d7-b50f-74d8f2dbce07",
   "metadata": {},
   "outputs": [
    {
     "data": {
      "text/plain": [
       "<matplotlib.collections.QuadMesh at 0x7fff962dece0>"
      ]
     },
     "execution_count": 15,
     "metadata": {},
     "output_type": "execute_result"
    },
    {
     "data": {
      "image/png": "[encoded data removed]",
      "text/plain": [
       "<Figure size 640x480 with 2 Axes>"
      ]
     },
     "metadata": {},
     "output_type": "display_data"
    }
   ],
   "source": [
    "param_grid_regridded['smoothed_a'][:,:,0].plot(cmap='gnuplot')"
   ]
  },
  {
   "cell_type": "markdown",
   "id": "95aaefef-03e4-452d-b3b7-c955c2fd3d35",
   "metadata": {},
   "source": [
    "### Generate precip timeseries"
   ]
  },
  {
   "cell_type": "code",
   "execution_count": 16,
   "id": "80086482-8588-40f2-9d29-1cb53e748360",
   "metadata": {},
   "outputs": [],
   "source": [
    "DS_subset_sm2r =  sm2r_tahmo_algorithm.ts_sm2rain_grid(param_grid, f'smdata_{ID}.nc' , smoothed=True)\n",
    "sm_data.close()"
   ]
  },
  {
   "cell_type": "markdown",
   "id": "0efd66d4-3725-430c-b549-b0428e7c5ab6",
   "metadata": {},
   "source": [
    "#### Remove soilmoisture dataset"
   ]
  },
  {
   "cell_type": "code",
   "execution_count": 17,
   "id": "acf13df9-1511-4565-a636-3d1163167d87",
   "metadata": {},
   "outputs": [],
   "source": [
    "os.remove(f'smdata_{ID}.nc')"
   ]
  },
  {
   "cell_type": "markdown",
   "id": "3eb5fca5-e410-496e-8dd4-eee9e5f82992",
   "metadata": {
    "tags": []
   },
   "source": [
    "\n",
    "#### Export results"
   ]
  },
  {
   "cell_type": "code",
   "execution_count": 18,
   "id": "e6a3d741-3212-447c-88eb-562da36b3117",
   "metadata": {},
   "outputs": [],
   "source": [
    "DS_subset_sm2r['precip'].to_netcdf(f'{project_root}/data/ascat_sm2r_{timeid}_R01_rainclass_smoothed_{num_stations_to_select}_stations_{ID}.nc')"
   ]
  },
  {
   "cell_type": "markdown",
   "id": "82d5e343-1a6e-4d29-9fd7-32bde8f4003a",
   "metadata": {},
   "source": [
    "# Visualize"
   ]
  },
  {
   "cell_type": "code",
   "execution_count": 19,
   "id": "2d0f3400-c776-40ff-9809-d7a1aa5b136a",
   "metadata": {},
   "outputs": [],
   "source": [
    "kenya = gpd.read_file(f'{project_root}/data/shapes/kenya/gadm41_KEN_0.shp')\n",
    "rwanda = gpd.read_file(f'{project_root}/data/shapes/rwanda/gadm41_RWA_0.shp')\n",
    "uganda = gpd.read_file(f'{project_root}/data/shapes/uganda/gadm41_UGA_0.shp')\n",
    "tanzania = gpd.read_file(f'{project_root}/data/shapes/tanzania/gadm41_TZA_0.shp')\n",
    "som = gpd.read_file(f'{project_root}/data/shapes/somalia/gadm41_SOM_0.shp')\n",
    "ssd = gpd.read_file(f'{project_root}/data/shapes/southsudan/gadm41_SSD_0.shp')\n",
    "eth = gpd.read_file(f'{project_root}/data/shapes/ethiopia/gadm41_ETH_0.shp')\n",
    "brn = gpd.read_file(f'{project_root}/data/shapes/burundi/gadm41_BDI_0.shp')\n",
    "drc = gpd.read_file(f'{project_root}/data/shapes/drcongo/gadm41_COD_0.shp')\n",
    "\n",
    "def plot_sm2rain_slider(timestep):\n",
    "    # plt.figure(figsize=(10, 10))\n",
    "    fig, ax = plt.subplots(figsize=(4, 2))\n",
    "    sm2r['precip'].isel(time=timestep).plot(ax=ax, cbar_kwargs={\"label\": \"SM [-]\"})\n",
    "    \n",
    "    # plt.scatter(36.82, -1.29, color='r', label='Nairobi')\n",
    "    kenya.plot(ax=ax, edgecolor=\"black\", facecolor=\"none\")\n",
    "    rwanda.plot(ax=ax, edgecolor=\"black\",facecolor=\"none\")\n",
    "    uganda.plot(ax=ax, edgecolor=\"black\", facecolor=\"none\")\n",
    "    tanzania.plot(ax=ax, edgecolor=\"black\", facecolor=\"none\")\n",
    "    som.plot(ax=ax, edgecolor=\"black\", facecolor=\"none\")\n",
    "    ssd.plot(ax=ax, edgecolor=\"black\", facecolor=\"none\")\n",
    "    eth.plot(ax=ax, edgecolor=\"black\", facecolor=\"none\")\n",
    "    brn.plot(ax=ax, edgecolor=\"black\", facecolor=\"none\")\n",
    "    drc.plot(ax=ax, edgecolor=\"black\", facecolor=\"none\")\n",
    "\n",
    "    plt.title(f'RZSM-ASCAT-NRT-10 (H26) {sm2r[\"time\"].isel(time=timestep).values.astype(\"M8[D]\").tolist().strftime(\"%Y-%m-%d\")}', size=10)\n",
    "    plt.xlabel('lon', size=10)\n",
    "    plt.ylabel('lat', size=10)\n",
    "    # plt.legend()\n",
    "    plt.show()"
   ]
  },
  {
   "cell_type": "code",
   "execution_count": 20,
   "id": "7e4d9962-614b-4964-8aab-325b865ffc9d",
   "metadata": {},
   "outputs": [
    {
     "data": {
      "application/vnd.jupyter.widget-view+json": {
       "model_id": "b63d51b11cfd420cbc8d81821a45ca17",
       "version_major": 2,
       "version_minor": 0
      },
      "text/plain": [
       "interactive(children=(IntSlider(value=0, description='Time Step', max=1825), Output()), _dom_classes=('widget-…"
      ]
     },
     "execution_count": 20,
     "metadata": {},
     "output_type": "execute_result"
    }
   ],
   "source": [
    "sm2r = xr.open_dataset(f'{project_root}/data/ascat_sm2r_{timeid}_R01_rainclass_smoothed_{num_stations_to_select}_stations_{ID}.nc')\n",
    "\n",
    "\n",
    "time_slider = widgets.IntSlider(value=0, min=0, max=len(sm2r['time']) - 1, step=1, description='Time Step')\n",
    "widgets.interactive(plot_sm2rain_slider, timestep=time_slider)"
   ]
  },
  {
   "cell_type": "markdown",
   "id": "19271b1a-4e2c-4dc0-b671-2eb8763b6cb2",
   "metadata": {},
   "source": [
    "# Evaluation"
   ]
  },
  {
   "cell_type": "code",
   "execution_count": 21,
   "id": "700f17ef-ebd7-43f3-a964-6e5a3bd54f7f",
   "metadata": {
    "tags": []
   },
   "outputs": [
    {
     "name": "stderr",
     "output_type": "stream",
     "text": [
      "/home/b/b382028/SM2Rain_TAHMO_SRPmerging_EastAfrica/sm2rain/utils.py:164: UserWarning: Could not infer format, so each element will be parsed individually, falling back to `dateutil`. To ensure parsing is consistent and as-expected, please specify a format.\n",
      "  station_data = pd.read_csv(data_dir, index_col=0, parse_dates=True)\n"
     ]
    },
    {
     "name": "stdout",
     "output_type": "stream",
     "text": [
      "rmse = 10.134419457580856, bias = -0.07841019522965849, spearman correlation = 0.46985933744180863, KGE = -0.04529874538028261, pod = 0.8615693784616071, far = 0.2933683061518876, hss = 0.27202666563824635\n"
     ]
    }
   ],
   "source": [
    "sm2r = utils.timeSeriesAllTahmoFromNetCDF(f'{project_root}/data/ascat_sm2r_{timeid}_R01_rainclass_smoothed_{num_stations_to_select}_stations_{ID}.nc', path_to_metadata, list_stations_subset, 'precip') ## calibrated with 2021/2022\n",
    "rmse, bias, spearman, kge, pod, far, hss = utils.GetEvaluationStatisticsPerStation(path_to_tahmo,path_to_qualityflags, sm2r, list_stations_subset, 0.25,correlation='spearman', only_raindays=True, getMean=True)\n",
    "print(f'rmse = {rmse}, bias = {bias}, spearman correlation = {spearman}, KGE = {kge}, pod = {pod}, far = {far}, hss = {hss}')\n"
   ]
  },
  {
   "cell_type": "code",
   "execution_count": null,
   "id": "34e5d3f2-e754-4fee-9da3-6d317ac3a5bb",
   "metadata": {},
   "outputs": [],
   "source": []
  },
  {
   "cell_type": "code",
   "execution_count": null,
   "id": "5b6440cd-92ef-44ef-a5e4-df786dfc63fe",
   "metadata": {},
   "outputs": [],
   "source": []
  }
 ],
 "metadata": {
  "kernelspec": {
   "display_name": "1 Python 3 (based on the module python3/2023.01)",
   "language": "python",
   "name": "python3_2023_01"
  },
  "language_info": {
   "codemirror_mode": {
    "name": "ipython",
    "version": 3
   },
   "file_extension": ".py",
   "mimetype": "text/x-python",
   "name": "python",
   "nbconvert_exporter": "python",
   "pygments_lexer": "ipython3",
   "version": "3.10.10"
  }
 },
 "nbformat": 4,
 "nbformat_minor": 5
}
